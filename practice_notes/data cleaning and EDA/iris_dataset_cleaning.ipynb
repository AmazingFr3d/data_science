{
 "cells": [
  {
   "cell_type": "code",
   "execution_count": 1,
   "id": "b6ceb55a-12c8-4555-9713-07bf7eb23c76",
   "metadata": {},
   "outputs": [],
   "source": [
    "import pandas as pd\n",
    "import numpy as np"
   ]
  },
  {
   "cell_type": "markdown",
   "id": "5080f884-dcb6-4a25-8a96-0c84fcd2d282",
   "metadata": {},
   "source": [
    "## Loading the Iris dataset\n",
    "\n",
    "Basic data explorations will be performed on said dataset to enable better understanding of it."
   ]
  },
  {
   "cell_type": "code",
   "execution_count": 2,
   "id": "4ec1c13c-49f6-4b63-8f2e-cda19ece1626",
   "metadata": {},
   "outputs": [],
   "source": [
    "data = pd.read_csv(\"Iris_Modified.csv\")"
   ]
  },
  {
   "cell_type": "code",
   "execution_count": 3,
   "id": "d2593b6d-0695-49cd-a8f8-05cbf11314eb",
   "metadata": {},
   "outputs": [
    {
     "data": {
      "text/html": [
       "<div>\n",
       "<style scoped>\n",
       "    .dataframe tbody tr th:only-of-type {\n",
       "        vertical-align: middle;\n",
       "    }\n",
       "\n",
       "    .dataframe tbody tr th {\n",
       "        vertical-align: top;\n",
       "    }\n",
       "\n",
       "    .dataframe thead th {\n",
       "        text-align: right;\n",
       "    }\n",
       "</style>\n",
       "<table border=\"1\" class=\"dataframe\">\n",
       "  <thead>\n",
       "    <tr style=\"text-align: right;\">\n",
       "      <th></th>\n",
       "      <th>Id</th>\n",
       "      <th>SepalLengthCm</th>\n",
       "      <th>SepalWidthCm</th>\n",
       "      <th>PetalLengthCm</th>\n",
       "      <th>PetalWidthCm</th>\n",
       "      <th>Species</th>\n",
       "    </tr>\n",
       "  </thead>\n",
       "  <tbody>\n",
       "    <tr>\n",
       "      <th>78</th>\n",
       "      <td>77</td>\n",
       "      <td>6.8</td>\n",
       "      <td>2.8</td>\n",
       "      <td>4.8</td>\n",
       "      <td>1.4</td>\n",
       "      <td>Iris-versicolor</td>\n",
       "    </tr>\n",
       "    <tr>\n",
       "      <th>104</th>\n",
       "      <td>103</td>\n",
       "      <td>7.1</td>\n",
       "      <td>3.0</td>\n",
       "      <td>5.9</td>\n",
       "      <td>2.1</td>\n",
       "      <td>Iris-virginica</td>\n",
       "    </tr>\n",
       "    <tr>\n",
       "      <th>60</th>\n",
       "      <td>59</td>\n",
       "      <td>6.6</td>\n",
       "      <td>2.9</td>\n",
       "      <td>4.6</td>\n",
       "      <td>1.3</td>\n",
       "      <td>Iris-versicolor</td>\n",
       "    </tr>\n",
       "    <tr>\n",
       "      <th>43</th>\n",
       "      <td>43</td>\n",
       "      <td>4.4</td>\n",
       "      <td>3.2</td>\n",
       "      <td>1.3</td>\n",
       "      <td>0.2</td>\n",
       "      <td>Iris-setosa</td>\n",
       "    </tr>\n",
       "    <tr>\n",
       "      <th>48</th>\n",
       "      <td>48</td>\n",
       "      <td>4.6</td>\n",
       "      <td>3.2</td>\n",
       "      <td>1.4</td>\n",
       "      <td>0.2</td>\n",
       "      <td>Iris-setosa</td>\n",
       "    </tr>\n",
       "  </tbody>\n",
       "</table>\n",
       "</div>"
      ],
      "text/plain": [
       "      Id  SepalLengthCm  SepalWidthCm  PetalLengthCm  PetalWidthCm  \\\n",
       "78    77            6.8           2.8            4.8           1.4   \n",
       "104  103            7.1           3.0            5.9           2.1   \n",
       "60    59            6.6           2.9            4.6           1.3   \n",
       "43    43            4.4           3.2            1.3           0.2   \n",
       "48    48            4.6           3.2            1.4           0.2   \n",
       "\n",
       "             Species  \n",
       "78   Iris-versicolor  \n",
       "104   Iris-virginica  \n",
       "60   Iris-versicolor  \n",
       "43       Iris-setosa  \n",
       "48       Iris-setosa  "
      ]
     },
     "execution_count": 3,
     "metadata": {},
     "output_type": "execute_result"
    }
   ],
   "source": [
    "data.sample(5)"
   ]
  },
  {
   "cell_type": "code",
   "execution_count": 19,
   "id": "d0914f59-88e3-4e47-95a1-c6c1e139affe",
   "metadata": {},
   "outputs": [
    {
     "data": {
      "text/plain": [
       "(153, 6)"
      ]
     },
     "execution_count": 19,
     "metadata": {},
     "output_type": "execute_result"
    }
   ],
   "source": [
    "data.shape"
   ]
  },
  {
   "cell_type": "code",
   "execution_count": 20,
   "id": "85f52d6e-5280-4395-812f-f144e6003fdb",
   "metadata": {},
   "outputs": [
    {
     "data": {
      "text/html": [
       "<div>\n",
       "<style scoped>\n",
       "    .dataframe tbody tr th:only-of-type {\n",
       "        vertical-align: middle;\n",
       "    }\n",
       "\n",
       "    .dataframe tbody tr th {\n",
       "        vertical-align: top;\n",
       "    }\n",
       "\n",
       "    .dataframe thead th {\n",
       "        text-align: right;\n",
       "    }\n",
       "</style>\n",
       "<table border=\"1\" class=\"dataframe\">\n",
       "  <thead>\n",
       "    <tr style=\"text-align: right;\">\n",
       "      <th></th>\n",
       "      <th>Id</th>\n",
       "      <th>SepalLengthCm</th>\n",
       "      <th>SepalWidthCm</th>\n",
       "      <th>PetalLengthCm</th>\n",
       "      <th>PetalWidthCm</th>\n",
       "    </tr>\n",
       "  </thead>\n",
       "  <tbody>\n",
       "    <tr>\n",
       "      <th>count</th>\n",
       "      <td>153.000000</td>\n",
       "      <td>153.000000</td>\n",
       "      <td>150.000000</td>\n",
       "      <td>150.000000</td>\n",
       "      <td>153.000000</td>\n",
       "    </tr>\n",
       "    <tr>\n",
       "      <th>mean</th>\n",
       "      <td>75.392157</td>\n",
       "      <td>5.847059</td>\n",
       "      <td>3.051333</td>\n",
       "      <td>3.761333</td>\n",
       "      <td>1.201961</td>\n",
       "    </tr>\n",
       "    <tr>\n",
       "      <th>std</th>\n",
       "      <td>43.737891</td>\n",
       "      <td>0.828049</td>\n",
       "      <td>0.430816</td>\n",
       "      <td>1.769950</td>\n",
       "      <td>0.768497</td>\n",
       "    </tr>\n",
       "    <tr>\n",
       "      <th>min</th>\n",
       "      <td>1.000000</td>\n",
       "      <td>4.300000</td>\n",
       "      <td>2.000000</td>\n",
       "      <td>1.000000</td>\n",
       "      <td>0.100000</td>\n",
       "    </tr>\n",
       "    <tr>\n",
       "      <th>25%</th>\n",
       "      <td>38.000000</td>\n",
       "      <td>5.100000</td>\n",
       "      <td>2.800000</td>\n",
       "      <td>1.525000</td>\n",
       "      <td>0.300000</td>\n",
       "    </tr>\n",
       "    <tr>\n",
       "      <th>50%</th>\n",
       "      <td>75.000000</td>\n",
       "      <td>5.800000</td>\n",
       "      <td>3.000000</td>\n",
       "      <td>4.350000</td>\n",
       "      <td>1.300000</td>\n",
       "    </tr>\n",
       "    <tr>\n",
       "      <th>75%</th>\n",
       "      <td>113.000000</td>\n",
       "      <td>6.400000</td>\n",
       "      <td>3.300000</td>\n",
       "      <td>5.100000</td>\n",
       "      <td>1.800000</td>\n",
       "    </tr>\n",
       "    <tr>\n",
       "      <th>max</th>\n",
       "      <td>150.000000</td>\n",
       "      <td>7.900000</td>\n",
       "      <td>4.400000</td>\n",
       "      <td>6.900000</td>\n",
       "      <td>2.500000</td>\n",
       "    </tr>\n",
       "  </tbody>\n",
       "</table>\n",
       "</div>"
      ],
      "text/plain": [
       "               Id  SepalLengthCm  SepalWidthCm  PetalLengthCm  PetalWidthCm\n",
       "count  153.000000     153.000000    150.000000     150.000000    153.000000\n",
       "mean    75.392157       5.847059      3.051333       3.761333      1.201961\n",
       "std     43.737891       0.828049      0.430816       1.769950      0.768497\n",
       "min      1.000000       4.300000      2.000000       1.000000      0.100000\n",
       "25%     38.000000       5.100000      2.800000       1.525000      0.300000\n",
       "50%     75.000000       5.800000      3.000000       4.350000      1.300000\n",
       "75%    113.000000       6.400000      3.300000       5.100000      1.800000\n",
       "max    150.000000       7.900000      4.400000       6.900000      2.500000"
      ]
     },
     "execution_count": 20,
     "metadata": {},
     "output_type": "execute_result"
    }
   ],
   "source": [
    "data.describe()"
   ]
  },
  {
   "cell_type": "code",
   "execution_count": 21,
   "id": "17d064fa-36ad-4465-b894-3178be45579e",
   "metadata": {},
   "outputs": [
    {
     "name": "stdout",
     "output_type": "stream",
     "text": [
      "<class 'pandas.core.frame.DataFrame'>\n",
      "RangeIndex: 153 entries, 0 to 152\n",
      "Data columns (total 6 columns):\n",
      " #   Column         Non-Null Count  Dtype  \n",
      "---  ------         --------------  -----  \n",
      " 0   Id             153 non-null    int64  \n",
      " 1   SepalLengthCm  153 non-null    float64\n",
      " 2   SepalWidthCm   150 non-null    float64\n",
      " 3   PetalLengthCm  150 non-null    float64\n",
      " 4   PetalWidthCm   153 non-null    float64\n",
      " 5   Species        153 non-null    object \n",
      "dtypes: float64(4), int64(1), object(1)\n",
      "memory usage: 7.3+ KB\n"
     ]
    }
   ],
   "source": [
    "data.info()"
   ]
  },
  {
   "cell_type": "markdown",
   "id": "85dc098e-b178-4733-ad36-a3f96b68375e",
   "metadata": {},
   "source": [
    "## Checking for missing values\n",
    "\n",
    "Basic operations to find and determinde the number of missinf values will be done."
   ]
  },
  {
   "cell_type": "code",
   "execution_count": 5,
   "id": "20564806-14f4-48c7-ad2c-c3bfa842c4a0",
   "metadata": {},
   "outputs": [
    {
     "data": {
      "text/plain": [
       "Id               0\n",
       "SepalLengthCm    0\n",
       "SepalWidthCm     3\n",
       "PetalLengthCm    3\n",
       "PetalWidthCm     0\n",
       "Species          0\n",
       "dtype: int64"
      ]
     },
     "execution_count": 5,
     "metadata": {},
     "output_type": "execute_result"
    }
   ],
   "source": [
    "# The issna() and isnull() functions can be use interchangeably\n",
    "missing_values_count = data.isnull().sum()\n",
    "missing_values_count"
   ]
  },
  {
   "cell_type": "code",
   "execution_count": 6,
   "id": "4d25d17e-d055-42d9-afca-fce6ca2a0919",
   "metadata": {},
   "outputs": [
    {
     "data": {
      "text/plain": [
       "918"
      ]
     },
     "execution_count": 6,
     "metadata": {},
     "output_type": "execute_result"
    }
   ],
   "source": [
    "# Total number of cells\n",
    "x, y = data.shape\n",
    "total_cells = x*y\n",
    "total_cells"
   ]
  },
  {
   "cell_type": "code",
   "execution_count": 7,
   "id": "14ec3520-4257-497d-b1f7-0e8c4ba27acc",
   "metadata": {},
   "outputs": [
    {
     "data": {
      "text/plain": [
       "6"
      ]
     },
     "execution_count": 7,
     "metadata": {},
     "output_type": "execute_result"
    }
   ],
   "source": [
    "# Total missing values\n",
    "total_missing_values = int(missing_values_count.sum())\n",
    "total_missing_values"
   ]
  },
  {
   "cell_type": "code",
   "execution_count": 8,
   "id": "d4c6d0f4-f312-43af-830f-5b36fbbf84ab",
   "metadata": {},
   "outputs": [
    {
     "data": {
      "text/plain": [
       "0.6535947712418301"
      ]
     },
     "execution_count": 8,
     "metadata": {},
     "output_type": "execute_result"
    }
   ],
   "source": [
    "# % of missing values\n",
    "(total_missing_values/total_cells) * 100"
   ]
  },
  {
   "cell_type": "markdown",
   "id": "da94904e-f05b-4bc1-a48a-e06a51ad807c",
   "metadata": {},
   "source": [
    "## Drop all rows with null values\n",
    "\n",
    "The missing values will be handled by deletong the rows contating them, in this case 6"
   ]
  },
  {
   "cell_type": "code",
   "execution_count": 9,
   "id": "4416e65b-f592-47af-b042-fb25f348b2a4",
   "metadata": {},
   "outputs": [
    {
     "data": {
      "text/plain": [
       "Id               0\n",
       "SepalLengthCm    0\n",
       "SepalWidthCm     0\n",
       "PetalLengthCm    0\n",
       "PetalWidthCm     0\n",
       "Species          0\n",
       "dtype: int64"
      ]
     },
     "execution_count": 9,
     "metadata": {},
     "output_type": "execute_result"
    }
   ],
   "source": [
    "droped_null = data.dropna().copy()\n",
    "droped_null.isnull().sum()"
   ]
  },
  {
   "cell_type": "code",
   "execution_count": 10,
   "id": "afdb0dce-8a21-4efc-b8ed-2da6c24e810a",
   "metadata": {},
   "outputs": [
    {
     "name": "stdout",
     "output_type": "stream",
     "text": [
      "Rows in original dataset:153\n",
      "Rows with na's dropped: 147\n"
     ]
    }
   ],
   "source": [
    "print(f\"Rows in original dataset:{data.shape[0]}\")\n",
    "print(f\"Rows with na's dropped: {droped_null.shape[0]}\")"
   ]
  },
  {
   "cell_type": "markdown",
   "id": "109c50b7-4571-4d0e-8b7f-1b56dde29c86",
   "metadata": {},
   "source": [
    "## Filling in missing values automatically\n",
    "\n",
    "The missing values will be filled in with a given value, in this case 0"
   ]
  },
  {
   "cell_type": "code",
   "execution_count": 18,
   "id": "55753eb3-232e-4de0-b2f4-8f2ebb2d3b34",
   "metadata": {},
   "outputs": [
    {
     "name": "stdout",
     "output_type": "stream",
     "text": [
      "The history saving thread hit an unexpected error (OperationalError('attempt to write a readonly database')).History will not be written to the database.\n"
     ]
    },
    {
     "data": {
      "text/plain": [
       "Id               0\n",
       "SepalLengthCm    0\n",
       "SepalWidthCm     0\n",
       "PetalLengthCm    0\n",
       "PetalWidthCm     0\n",
       "Species          0\n",
       "dtype: int64"
      ]
     },
     "execution_count": 18,
     "metadata": {},
     "output_type": "execute_result"
    }
   ],
   "source": [
    "#Using fillna()\n",
    "data_autofill = data.copy()\n",
    "data_autofill.fillna(0, inplace=True)\n",
    "data_autofill.isna().sum()"
   ]
  },
  {
   "cell_type": "markdown",
   "id": "850a71c6-0841-4045-829c-4cf2d20b4a33",
   "metadata": {},
   "source": [
    "# Filling in missing values with already exixting value\n",
    "\n",
    "The missing values in this case will be filled in with the value on the row before it or the row after it."
   ]
  },
  {
   "cell_type": "code",
   "execution_count": 17,
   "id": "8a34181f-b60d-47e3-8e37-927073e57fb5",
   "metadata": {},
   "outputs": [
    {
     "data": {
      "text/plain": [
       "Id               0\n",
       "SepalLengthCm    0\n",
       "SepalWidthCm     0\n",
       "PetalLengthCm    0\n",
       "PetalWidthCm     0\n",
       "Species          0\n",
       "dtype: int64"
      ]
     },
     "execution_count": 17,
     "metadata": {},
     "output_type": "execute_result"
    }
   ],
   "source": [
    "#using bfill() and ffill()\n",
    "data_autofill_1 = data.copy()\n",
    "data_autofill_1 = data_autofill_1.bfill().ffill()\n",
    "data_autofill_1.isna().sum()"
   ]
  },
  {
   "cell_type": "code",
   "execution_count": null,
   "id": "94353183-8828-4f06-a254-14896e1704b1",
   "metadata": {},
   "outputs": [],
   "source": []
  }
 ],
 "metadata": {
  "kernelspec": {
   "display_name": "Python 3 (ipykernel)",
   "language": "python",
   "name": "python3"
  },
  "language_info": {
   "codemirror_mode": {
    "name": "ipython",
    "version": 3
   },
   "file_extension": ".py",
   "mimetype": "text/x-python",
   "name": "python",
   "nbconvert_exporter": "python",
   "pygments_lexer": "ipython3",
   "version": "3.12.7"
  }
 },
 "nbformat": 4,
 "nbformat_minor": 5
}
